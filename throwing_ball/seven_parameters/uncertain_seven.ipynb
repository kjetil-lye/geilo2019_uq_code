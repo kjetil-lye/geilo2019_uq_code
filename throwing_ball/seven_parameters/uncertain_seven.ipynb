{
 "cells": [
  {
   "cell_type": "code",
   "execution_count": 32,
   "metadata": {},
   "outputs": [],
   "source": [
    "import numpy as np\n",
    "import matplotlib\n",
    "import scipy.integrate\n",
    "matplotlib.rcParams['savefig.dpi'] = 300\n",
    "import matplotlib.pyplot as plt\n",
    "import sys"
   ]
  },
  {
   "cell_type": "code",
   "execution_count": 33,
   "metadata": {},
   "outputs": [],
   "source": [
    "def right_hand_side(u, rho, C_D, r, m):\n",
    "    v_vec = u[2:]\n",
    "    norm_v = np.linalg.norm(v_vec)\n",
    "    v_normalized = v_vec / norm_v\n",
    "    \n",
    "    A = np.pi * r**2\n",
    "    \n",
    "    drag = 0.5 * rho * C_D * norm_v **2 * A\n",
    "    \n",
    "    return np.array([v_vec[0], \n",
    "                     v_vec[1],\n",
    "                     0*-drag/m * v_normalized[0], \n",
    "                     0*-drag/m * v_normalized[1] - g, \n",
    "                    ])\n",
    "\n",
    "def simulate_until_impact(h_0, x_0, v_0, alpha, g, C_D, rho, dt):\n",
    "    # We need to solve an ODE\n",
    "    u_0 = np.array([x_0, h_0, v_0*np.cos(alpha), v_0*np.sin(alpha)])\n",
    "    \n",
    "    # WARNING: This is not the most effective way of doing this\n",
    "    # but it is used for educational purposes.\n",
    "    t = [0]\n",
    "    u = [u_0]\n",
    "    \n",
    "    \n",
    "    while u[-1][1] > 0:\n",
    "        u.append(u[-1] + dt * right_hand_side(u[-1], rho, C_D, r, m))\n",
    "        \n",
    "        t.append(t[-1] + dt)\n",
    "\n",
    "    return np.array(u), np.array(t)\n",
    "\n",
    "@np.vectorize\n",
    "def p(h_0, x_0, v_0, alpha, g, C_D, rho, dt):\n",
    "    u, t = simulate_until_impact(h_0, x_0, v_0, alpha, g, C_D, rho, dt)\n",
    "    \n",
    "    return u[-1][0]\n",
    "        \n"
   ]
  },
  {
   "cell_type": "code",
   "execution_count": null,
   "metadata": {},
   "outputs": [],
   "source": []
  },
  {
   "cell_type": "code",
   "execution_count": 27,
   "metadata": {},
   "outputs": [],
   "source": [
    "x_0 = 0.2\n",
    "v_0 =20\n",
    "alpha = np.pi/12\n",
    "h_0 = 0.5\n",
    "\n",
    "N = 500\n",
    "\n",
    "g = 9.81\n",
    "\n",
    "C_D = 0.1\n",
    "\n",
    "m = 0.142\n",
    "\n",
    "r = 0.22\n",
    "\n",
    "rho = 1.1455\n"
   ]
  },
  {
   "cell_type": "code",
   "execution_count": 30,
   "metadata": {},
   "outputs": [],
   "source": [
    "def compute_monte_carlo_ensemble(M, dt):\n",
    "    x_0 = 0.2\n",
    "    v_0 = np.random.uniform(15,25, M)\n",
    "    alpha = np.random.uniform(0, 5*np.pi/12, M)\n",
    "    h_0 = np.random.uniform(0,1, M)\n",
    "    \n",
    "    C_D = np.random.uniform(0.07, 0.13, M)\n",
    "    m = np.random.uniform(0.12, 0.16, M)\n",
    "    \n",
    "    r = np.random.uniform(0.2, 0.24, M)\n",
    "    \n",
    "    rho = np.random.uniform(1.1, 1.4, M)\n",
    "    \n",
    "    \n",
    "    ensemble = p(h_0, x_0, v_0, alpha, g, C_D, rho, dt)\n",
    "    \n",
    "    return ensemble\n",
    "\n",
    "def compute_monte_carlo(M, dt):\n",
    "    ensemble = compute_monte_carlo_ensemble(M, dt)\n",
    "    return np.mean(ensemble), np.var(ensemble)"
   ]
  },
  {
   "cell_type": "code",
   "execution_count": 29,
   "metadata": {
    "scrolled": false
   },
   "outputs": [
    {
     "data": {
      "image/png": "[encoded data removed]",
      "text/plain": [
       "<Figure size 432x288 with 1 Axes>"
      ]
     },
     "metadata": {
      "needs_background": "light"
     },
     "output_type": "display_data"
    },
    {
     "data": {
      "image/png": "[encoded data removed]",
      "text/plain": [
       "<Figure size 432x288 with 1 Axes>"
      ]
     },
     "metadata": {
      "needs_background": "light"
     },
     "output_type": "display_data"
    }
   ],
   "source": [
    "u, t = simulate_until_impact(h_0, x_0, v_0, alpha, g, C_D, rho, 1/2048.)\n",
    "\n",
    "plt.plot(u[:, 0], u[:, 1], 'o')\n",
    "plt.show()\n",
    "# Plot the different height possibilities\n",
    "plt.plot([x_0, x_0], [0.5-np.sqrt(1.0/12.0), 0.5+np.sqrt(1.0/12.0)],\n",
    "    linewidth=4, label='$[\\\\mathbb{E}(h_0)-\\\\mathrm{std}(h_0), \\\\mathbb{E}(h_0)+\\\\mathrm{std}(h_0)]$')\n",
    "\n",
    "plt.plot(x_0, 0.5, 'p', markersize=8, label='$\\\\mathbb{E}(h_0)$')\n",
    "\n",
    "M=1024\n",
    "mean, var = compute_monte_carlo(M, 1.0/np.sqrt(M))\n",
    "\n",
    "std = np.sqrt(var)\n",
    "\n",
    "plt.plot([mean - std, mean+std], [0, 0], linewidth=4,\n",
    "    label='$[\\\\mathbb{E}(p)-\\\\mathrm{std}(p), \\\\mathbb{E}(p)+\\\\mathrm{std}(p)]$')\n",
    "plt.plot([mean], [0], '*', markersize=8, label='$\\\\mathbb{E}(p)$')\n",
    "plt.legend()\n",
    "plt.xlim([0, mean+std])\n",
    "\n",
    "plt.xlabel('$x$')\n",
    "plt.ylabel('$y$')\n",
    "\n",
    "plt.savefig('uncertain_height_angle.png')\n",
    "\n",
    "plt.show()\n"
   ]
  },
  {
   "cell_type": "markdown",
   "metadata": {},
   "source": [
    "# Convergence plots"
   ]
  },
  {
   "cell_type": "code",
   "execution_count": 38,
   "metadata": {},
   "outputs": [
    {
     "name": "stdout",
     "output_type": "stream",
     "text": [
      "-7.0\r"
     ]
    },
    {
     "data": {
      "image/png": "[encoded data removed]",
      "text/plain": [
       "<Figure size 432x288 with 1 Axes>"
      ]
     },
     "metadata": {
      "needs_background": "light"
     },
     "output_type": "display_data"
    }
   ],
   "source": [
    "\n",
    "\n",
    "dts = 2.0**(-np.arange(3, 8))\n",
    "\n",
    "variance_decay = []\n",
    "\n",
    "M = 2048\n",
    "for dt in dts:\n",
    "    sys.stdout.write('{}\\r'.format(np.log2(dt)))\n",
    "    sys.stdout.flush()\n",
    "    np.random.seed(0)\n",
    "    ensemble_l   = compute_monte_carlo_ensemble(2048, dt)\n",
    "    np.random.seed(0)\n",
    "    ensemble_lm1 = compute_monte_carlo_ensemble(2048, 2*dt)\n",
    "    \n",
    "    variance_decay.append(np.var(ensemble_l - ensemble_lm1))\n",
    "    \n",
    "\n",
    "variance_decay = np.array(variance_decay, dtype=np.float64)\n",
    "\n",
    "plt.loglog(dts, variance_decay, '-o', label='$\\\\mathrm{Var}(u^{\\\\Delta t}-u^{2\\\\Delta t})$')\n",
    "fitted = np.polyfit(np.log(dts), np.log(variance_decay), 1)\n",
    "plt.loglog(dts, np.exp(fitted[1])*dts**(fitted[0]), '--',\n",
    "    label='$\\\\mathcal{{O}}(\\\\Delta t^{{{:.1f}}})$'.format(fitted[0]),\n",
    "          basex=2, basey=2)\n",
    "plt.xlabel('$\\\\Delta t$')\n",
    "plt.ylabel(\"$\\\\mathrm{Var}(u^{\\\\Delta t}-u^{2\\\\Delta t})$\")\n",
    "plt.grid(True)\n",
    "plt.legend()\n",
    "plt.savefig('uncertain_height_angle_convergence.png')\n",
    "plt.show()\n"
   ]
  },
  {
   "cell_type": "code",
   "execution_count": null,
   "metadata": {},
   "outputs": [],
   "source": []
  }
 ],
 "metadata": {
  "kernelspec": {
   "display_name": "Python 3",
   "language": "python",
   "name": "python3"
  },
  "language_info": {
   "codemirror_mode": {
    "name": "ipython",
    "version": 3
   },
   "file_extension": ".py",
   "mimetype": "text/x-python",
   "name": "python",
   "nbconvert_exporter": "python",
   "pygments_lexer": "ipython3",
   "version": "3.7.2"
  }
 },
 "nbformat": 4,
 "nbformat_minor": 2
}
