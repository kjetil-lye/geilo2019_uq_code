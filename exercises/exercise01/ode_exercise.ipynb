{
 "cells": [
  {
   "cell_type": "code",
   "execution_count": 1,
   "metadata": {},
   "outputs": [],
   "source": [
    "import numpy as np\n",
    "import matplotlib\n",
    "%matplotlib inline\n",
    "import matplotlib.pyplot as plt"
   ]
  },
  {
   "cell_type": "markdown",
   "metadata": {},
   "source": [
    "# Uncertain equation\n",
    "$$u''(\\omega; t)-(a(\\omega)+b(\\omega))u'(\\omega;t) + a(\\omega)b(\\omega)u(t)=0$$\n",
    "$$u(\\omega; 0) = X(\\omega)$$\n",
    "$$u'(\\omega; 0) = Y(\\omega)$$\n",
    "\n",
    "$X, Y,a, b\\sim \\mathcal{U}[0,1]$"
   ]
  },
  {
   "cell_type": "code",
   "execution_count": 2,
   "metadata": {},
   "outputs": [],
   "source": [
    "@np.vectorize\n",
    "def u_approx(u_0, dudt0, dt, T, a, b):\n",
    "    \"\"\"Approximates the solution of u''(t)-(a+b)*u'(t)+a*b*u(t)=0\n",
    "    given u(0)=u_0 and u'(0)= dudx0\"\"\"\n",
    "    \n",
    "    u = u_0\n",
    "    dudt = dudt0\n",
    "    \n",
    "    \n",
    "    t=0\n",
    "    while t < T:\n",
    "        u += dt * dudt\n",
    "        \n",
    "        dudt +=  dt*(a+b)*dudt - dt*a*b*u\n",
    "        \n",
    "        t += dt\n",
    "        \n",
    "    return u"
   ]
  },
  {
   "cell_type": "markdown",
   "metadata": {},
   "source": [
    "# Test that the method is correctly implemented\n",
    "\n",
    "The solution to the ODE for a single configuration (this is just sanity checking of the code)\n",
    "\n",
    "The general solution is\n",
    "$$u(t) = A\\exp(at) + B\\exp(bt)$$\n",
    "\n",
    "assuming furthermore $a=1$, $b=2$, $X=1$, $Y=0$, we get\n",
    "$$u(t) = 2 \\exp(t) - \\exp(2t)$$"
   ]
  },
  {
   "cell_type": "code",
   "execution_count": 3,
   "metadata": {
    "scrolled": false
   },
   "outputs": [
    {
     "data": {
      "image/png": "[encoded data removed]",
      "text/plain": [
       "<Figure size 432x288 with 1 Axes>"
      ]
     },
     "metadata": {
      "needs_background": "light"
     },
     "output_type": "display_data"
    }
   ],
   "source": [
    "dts = 2.0**(-np.arange(2,12))\n",
    "errors = []\n",
    "\n",
    "for dt in dts:\n",
    "    \n",
    "    u = u_approx(1, 0, dt, 1, 1, 2)\n",
    "    \n",
    "    exact_solution = 2*np.exp(1)-np.exp(2)\n",
    "    errors.append(abs(u - exact_solution))\n",
    "    \n",
    "plt.loglog(dts, errors, '-o', basex=2, basey=2)\n",
    "plt.xlabel('$\\Delta t$')\n",
    "plt.ylabel('$|u(1)-u^{\\Delta t}(1)|$')\n",
    "plt.grid(True)"
   ]
  },
  {
   "cell_type": "code",
   "execution_count": 1,
   "metadata": {},
   "outputs": [
    {
     "ename": "NameError",
     "evalue": "name 'np' is not defined",
     "output_type": "error",
     "traceback": [
      "\u001b[0;31m---------------------------------------------------------------------------\u001b[0m",
      "\u001b[0;31mNameError\u001b[0m                                 Traceback (most recent call last)",
      "\u001b[0;32m<ipython-input-1-2481aa284df9>\u001b[0m in \u001b[0;36m<module>\u001b[0;34m\u001b[0m\n\u001b[1;32m      6\u001b[0m     \u001b[0;32mreturn\u001b[0m \u001b[0mmean\u001b[0m\u001b[0;34m,\u001b[0m \u001b[0mvar\u001b[0m\u001b[0;34m\u001b[0m\u001b[0;34m\u001b[0m\u001b[0m\n\u001b[1;32m      7\u001b[0m \u001b[0;34m\u001b[0m\u001b[0m\n\u001b[0;32m----> 8\u001b[0;31m \u001b[0mMs\u001b[0m \u001b[0;34m=\u001b[0m \u001b[0;36m2\u001b[0m\u001b[0;34m**\u001b[0m\u001b[0mnp\u001b[0m\u001b[0;34m.\u001b[0m\u001b[0marange\u001b[0m\u001b[0;34m(\u001b[0m\u001b[0;36m2\u001b[0m\u001b[0;34m,\u001b[0m\u001b[0;36m9\u001b[0m\u001b[0;34m)\u001b[0m\u001b[0;34m\u001b[0m\u001b[0;34m\u001b[0m\u001b[0m\n\u001b[0m\u001b[1;32m      9\u001b[0m \u001b[0;34m\u001b[0m\u001b[0m\n\u001b[1;32m     10\u001b[0m \u001b[0mreference\u001b[0m\u001b[0;34m,\u001b[0m \u001b[0mvar\u001b[0m \u001b[0;34m=\u001b[0m \u001b[0mapproximate_mean_monte_carlo\u001b[0m\u001b[0;34m(\u001b[0m\u001b[0mMs\u001b[0m\u001b[0;34m[\u001b[0m\u001b[0;34m-\u001b[0m\u001b[0;36m1\u001b[0m\u001b[0;34m]\u001b[0m\u001b[0;34m*\u001b[0m\u001b[0;36m16\u001b[0m\u001b[0;34m,\u001b[0m \u001b[0;36m1\u001b[0m\u001b[0;34m,\u001b[0m \u001b[0;36m1\u001b[0m\u001b[0;34m/\u001b[0m\u001b[0;34m(\u001b[0m\u001b[0mMs\u001b[0m\u001b[0;34m[\u001b[0m\u001b[0;34m-\u001b[0m\u001b[0;36m1\u001b[0m\u001b[0;34m]\u001b[0m\u001b[0;34m*\u001b[0m\u001b[0;36m16\u001b[0m\u001b[0;34m)\u001b[0m\u001b[0;34m)\u001b[0m\u001b[0;34m\u001b[0m\u001b[0;34m\u001b[0m\u001b[0m\n",
      "\u001b[0;31mNameError\u001b[0m: name 'np' is not defined"
     ]
    }
   ],
   "source": [
    "def approximate_mean_monte_carlo(M, T, dt):\n",
    "    dt = 1.0/M\n",
    "    \n",
    "    # Implement Monte Carlo here to compute mean and variance\n",
    "    \n",
    "    return mean, var\n",
    "\n",
    "Ms = 2**np.arange(2,9)\n",
    "\n",
    "reference, var = approximate_mean_monte_carlo(Ms[-1]*16, 1, 1/(Ms[-1]*16))\n",
    "\n",
    "errors = []\n",
    "for M in Ms:\n",
    "    dt = 1.0/np.sqrt(M)\n",
    "    mean, var = approximate_mean_monte_carlo(M, 1, dt)\n",
    "    \n",
    "    errors.append(abs(reference-mean))\n",
    "    \n",
    "plt.loglog(Ms, errors, '-o', basex=2, basey=2)\n",
    "plt.xlabel('$M$')\n",
    "plt.ylabel('Error')\n",
    "plt.show()\n",
    "    \n",
    "print(mean)\n",
    "print(np.sqrt(var))"
   ]
  },
  {
   "cell_type": "code",
   "execution_count": null,
   "metadata": {},
   "outputs": [],
   "source": []
  }
 ],
 "metadata": {
  "kernelspec": {
   "display_name": "Python 3",
   "language": "python",
   "name": "python3"
  },
  "language_info": {
   "codemirror_mode": {
    "name": "ipython",
    "version": 3
   },
   "file_extension": ".py",
   "mimetype": "text/x-python",
   "name": "python",
   "nbconvert_exporter": "python",
   "pygments_lexer": "ipython3",
   "version": "3.7.2"
  }
 },
 "nbformat": 4,
 "nbformat_minor": 2
}
