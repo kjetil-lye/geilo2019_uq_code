{
 "cells": [
  {
   "cell_type": "code",
   "execution_count": 2,
   "metadata": {},
   "outputs": [],
   "source": [
    "import numpy as np\n",
    "import matplotlib\n",
    "%matplotlib inline\n",
    "import matplotlib.pyplot as plt"
   ]
  },
  {
   "cell_type": "markdown",
   "metadata": {},
   "source": [
    "# Simple ODE with uncertain initial data and parameter\n",
    "\n",
    "$$ y'(\\omega; t) = q(\\omega)y(\\omega;t)$$\n",
    "$$ y(\\omega; 0) = X(\\omega)$$\n",
    "\n",
    "where $q, X\\sim \\mathcal{U}[0,1]$\n",
    "\n",
    "Exercise: Approximate $\\mathbb{E}(y(\\cdot; 1))$"
   ]
  },
  {
   "cell_type": "markdown",
   "metadata": {},
   "source": [
    "## Solve in time using forward Euler"
   ]
  },
  {
   "cell_type": "code",
   "execution_count": 5,
   "metadata": {},
   "outputs": [],
   "source": [
    "def solve_with_forward_euler(y_0, q, dt, T):\n",
    "    y = y_0\n",
    "    \n",
    "    t = 0\n",
    "    \n",
    "    while t < T:\n",
    "        y = y + dt * q * y\n",
    "        t += dt\n",
    "    return y"
   ]
  },
  {
   "cell_type": "markdown",
   "metadata": {},
   "source": [
    "## Use Monte Carlo"
   ]
  },
  {
   "cell_type": "code",
   "execution_count": 6,
   "metadata": {},
   "outputs": [],
   "source": [
    "def approximate_monte_carlo(M, dt, T):\n",
    "    \n",
    "    # Sample q and X\n",
    "    q = np.random.uniform(0, 1, M)\n",
    "    X = np.random.uniform(0, 1, M)\n",
    "    \n",
    "    E = 0\n",
    "    for k in range(M):\n",
    "        y = solve_with_forward_euler(X[k], q[k], dt, T)\n",
    "        E = E + y\n",
    "        \n",
    "    return E / M"
   ]
  },
  {
   "cell_type": "markdown",
   "metadata": {},
   "source": [
    "## Test solution\n",
    "Note that the exact solution of the ODE is\n",
    "$$ y(\\omega;t) = X(\\omega)\\exp(q(\\omega)t)$$\n",
    "so\n",
    "$$y(\\omega; 1) = X(\\omega)\\exp(q(\\omega))$$\n",
    "hence\n",
    "$$\\mathbb{E}(y(\\cdot; 1))=\\int_0^1\\int_0^1 x\\exp(q)\\; dq\\; dx=\\frac{1}{2}(e-1)$$"
   ]
  },
  {
   "cell_type": "code",
   "execution_count": 9,
   "metadata": {},
   "outputs": [
    {
     "name": "stdout",
     "output_type": "stream",
     "text": [
      "0.8672755594362124\n",
      "0.8591409142295225\n"
     ]
    }
   ],
   "source": [
    "M=1024\n",
    "dt = 2.0**(-5)\n",
    "T = 1\n",
    "print(approximate_monte_carlo(M, dt, T))\n",
    "\n",
    "exact_solution = 1.0/2.0 *(np.exp(1)-1)\n",
    "\n",
    "print(exact_solution)"
   ]
  },
  {
   "cell_type": "code",
   "execution_count": null,
   "metadata": {},
   "outputs": [],
   "source": []
  }
 ],
 "metadata": {
  "kernelspec": {
   "display_name": "Python 3",
   "language": "python",
   "name": "python3"
  },
  "language_info": {
   "codemirror_mode": {
    "name": "ipython",
    "version": 3
   },
   "file_extension": ".py",
   "mimetype": "text/x-python",
   "name": "python",
   "nbconvert_exporter": "python",
   "pygments_lexer": "ipython3",
   "version": "3.7.2"
  }
 },
 "nbformat": 4,
 "nbformat_minor": 2
}
